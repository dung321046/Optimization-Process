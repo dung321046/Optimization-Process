{
 "cells": [
  {
   "cell_type": "code",
   "execution_count": 1,
   "id": "d17f2661-5f01-4c50-b1dd-9f8cd284b022",
   "metadata": {},
   "outputs": [],
   "source": [
    "from keras.datasets import imdb\n",
    "\n",
    "# Load the data, keeping only 10,000 of the most frequently occuring words\n",
    "(train_data, train_labels), (test_data, test_labels) = imdb.load_data(num_words = 10000)"
   ]
  },
  {
   "cell_type": "code",
   "execution_count": 2,
   "id": "c07c964b-0093-458b-8780-d79946e8beca",
   "metadata": {},
   "outputs": [
    {
     "name": "stdout",
     "output_type": "stream",
     "text": [
      "<class 'list'>\n"
     ]
    },
    {
     "data": {
      "text/plain": [
       "9999"
      ]
     },
     "execution_count": 2,
     "metadata": {},
     "output_type": "execute_result"
    }
   ],
   "source": [
    "print(type([max(sequence) for sequence in train_data]))\n",
    "\n",
    "# Find the maximum of all max indexes\n",
    "max([max(sequence) for sequence in train_data])"
   ]
  },
  {
   "cell_type": "code",
   "execution_count": 3,
   "id": "dbe78d81-138a-4c30-9305-250ea94558b6",
   "metadata": {},
   "outputs": [
    {
     "data": {
      "text/plain": [
       "\"? this film was just brilliant casting location scenery story direction everyone's really suited the part they played and you could just imagine being there robert ? is an amazing actor and now the same being director ? father came from the same scottish island as myself so i loved the fact there was a real connection with this film the witty remarks throughout the film were great it was just brilliant so much that i bought the film as soon as it was released for ? and would recommend it to everyone to watch and the fly fishing was amazing really cried at the end it was so sad and you know what they say if you cry at a film it must have been good and this definitely was also ? to the two little boy's that played the ? of norman and paul they were just brilliant children are often left out of the ? list i think because the stars that play them all grown up are such a big profile for the whole film but these children are amazing and should be praised for what they have done don't you think the whole story was so lovely because it was true and was someone's life after all that was shared with us all\""
      ]
     },
     "execution_count": 3,
     "metadata": {},
     "output_type": "execute_result"
    }
   ],
   "source": [
    "# Let's quickly decode a review\n",
    "\n",
    "# step 1: load the dictionary mappings from word to integer index\n",
    "word_index = imdb.get_word_index()\n",
    "\n",
    "# step 2: reverse word index to map integer indexes to their respective words\n",
    "reverse_word_index = dict([(value, key) for (key, value) in word_index.items()])\n",
    "\n",
    "# Step 3: decode the review, mapping integer indices to words\n",
    "#\n",
    "# indices are off by 3 because 0, 1, and 2 are reserverd indices for \"padding\", \"Start of sequence\" and \"unknown\"\n",
    "decoded_review = ' '.join([reverse_word_index.get(i-3, '?') for i in train_data[0]])\n",
    "\n",
    "decoded_review"
   ]
  },
  {
   "cell_type": "code",
   "execution_count": 4,
   "id": "cd63c313-1b19-43a7-bfe2-51c6a6c8bf48",
   "metadata": {},
   "outputs": [],
   "source": [
    "import numpy as np\n",
    "\n",
    "def vectorize_sequences(sequences, dimension=10000):\n",
    "    results = np.zeros((len(sequences), dimension))    # Creates an all zero matrix of shape (len(sequences),10K)\n",
    "    for i,sequence in enumerate(sequences):\n",
    "        results[i,sequence] = 1                        # Sets specific indices of results[i] to 1s\n",
    "    return results\n",
    "len(train_data)\n",
    "# Vectorize training Data\n",
    "X_train = vectorize_sequences(train_data[:1000])\n",
    "# Vectorize testing Data\n",
    "X_test = vectorize_sequences(test_data)"
   ]
  },
  {
   "cell_type": "code",
   "execution_count": 5,
   "id": "60a8eed6-ee27-4418-9e28-ff4e6214fd1b",
   "metadata": {},
   "outputs": [
    {
     "data": {
      "text/plain": [
       "(1000, 10000)"
      ]
     },
     "execution_count": 5,
     "metadata": {},
     "output_type": "execute_result"
    }
   ],
   "source": [
    "X_train.shape"
   ]
  },
  {
   "cell_type": "code",
   "execution_count": 33,
   "id": "d2908be2-a41d-42ab-8c40-f9857edd4f84",
   "metadata": {},
   "outputs": [],
   "source": [
    "y_train = np.asarray(train_labels[:1000]).astype('float32')\n",
    "y_test  = np.asarray(test_labels).astype('float32')"
   ]
  },
  {
   "cell_type": "code",
   "execution_count": 34,
   "id": "6d36ea30-780c-4c5e-848e-2c1293bf69a5",
   "metadata": {},
   "outputs": [],
   "source": [
    "from keras import models\n",
    "from keras import layers\n",
    "\n",
    "model = models.Sequential()\n",
    "model.add(layers.Dense(16, activation='relu', input_shape=(10000,)))\n",
    "model.add(layers.Dense(16, activation='relu'))\n",
    "model.add(layers.Dense(1, activation='sigmoid'))"
   ]
  },
  {
   "cell_type": "code",
   "execution_count": 35,
   "id": "1737fc92-3bab-4257-b8c7-c9fb06a08462",
   "metadata": {},
   "outputs": [],
   "source": [
    "model.compile(optimizer='rmsprop',\n",
    "              loss = 'binary_crossentropy',\n",
    "              metrics = ['accuracy'])"
   ]
  },
  {
   "cell_type": "code",
   "execution_count": 36,
   "id": "91b6fdc6-2571-4dc2-9417-eb6ef5d55167",
   "metadata": {},
   "outputs": [],
   "source": [
    "from keras import optimizers\n",
    "from keras import losses\n",
    "from keras import metrics\n",
    "\n",
    "model.compile(optimizer=optimizers.RMSprop(learning_rate=0.001),\n",
    "              loss = losses.binary_crossentropy,\n",
    "              metrics = [metrics.binary_accuracy])"
   ]
  },
  {
   "cell_type": "code",
   "execution_count": 37,
   "id": "93f45656-7d1a-4373-8c2c-a5a0e40c2ed3",
   "metadata": {},
   "outputs": [],
   "source": [
    "# Input for Validation\n",
    "val_size = 100\n",
    "X_val = X_train[:val_size]\n",
    "partial_X_train = X_train[val_size:]\n",
    "\n",
    "# Labels for validation\n",
    "y_val = y_train[:val_size]\n",
    "partial_y_train = y_train[val_size:]"
   ]
  },
  {
   "cell_type": "code",
   "execution_count": 38,
   "id": "c733c9d8-f91b-4f34-9121-fb8ad61faecc",
   "metadata": {},
   "outputs": [
    {
     "name": "stdout",
     "output_type": "stream",
     "text": [
      "Epoch 1/50\n",
      "2/2 [==============================] - 1s 169ms/step - loss: 0.6912 - binary_accuracy: 0.5256 - val_loss: 0.6682 - val_binary_accuracy: 0.7100\n",
      "Epoch 2/50\n",
      "2/2 [==============================] - 0s 48ms/step - loss: 0.6296 - binary_accuracy: 0.8367 - val_loss: 0.6666 - val_binary_accuracy: 0.5100\n",
      "Epoch 3/50\n",
      "2/2 [==============================] - 0s 50ms/step - loss: 0.5690 - binary_accuracy: 0.7278 - val_loss: 0.6036 - val_binary_accuracy: 0.7000\n",
      "Epoch 4/50\n",
      "2/2 [==============================] - 0s 47ms/step - loss: 0.4947 - binary_accuracy: 0.9256 - val_loss: 0.5614 - val_binary_accuracy: 0.7900\n",
      "Epoch 5/50\n",
      "2/2 [==============================] - 0s 47ms/step - loss: 0.4361 - binary_accuracy: 0.9711 - val_loss: 0.5158 - val_binary_accuracy: 0.8700\n",
      "Epoch 6/50\n",
      "2/2 [==============================] - 0s 45ms/step - loss: 0.3906 - binary_accuracy: 0.9900 - val_loss: 0.4851 - val_binary_accuracy: 0.9000\n",
      "Epoch 7/50\n",
      "2/2 [==============================] - 0s 47ms/step - loss: 0.3553 - binary_accuracy: 0.9900 - val_loss: 0.4628 - val_binary_accuracy: 0.8900\n",
      "Epoch 8/50\n",
      "2/2 [==============================] - 0s 43ms/step - loss: 0.3272 - binary_accuracy: 0.9922 - val_loss: 0.4446 - val_binary_accuracy: 0.8900\n",
      "Epoch 9/50\n",
      "2/2 [==============================] - 0s 45ms/step - loss: 0.2955 - binary_accuracy: 0.9944 - val_loss: 0.4380 - val_binary_accuracy: 0.9100\n",
      "Epoch 10/50\n",
      "2/2 [==============================] - 0s 46ms/step - loss: 0.2679 - binary_accuracy: 0.9967 - val_loss: 0.4295 - val_binary_accuracy: 0.9000\n",
      "Epoch 11/50\n",
      "2/2 [==============================] - 0s 44ms/step - loss: 0.2445 - binary_accuracy: 0.9978 - val_loss: 0.4130 - val_binary_accuracy: 0.9000\n",
      "Epoch 12/50\n",
      "2/2 [==============================] - 0s 44ms/step - loss: 0.2231 - binary_accuracy: 0.9978 - val_loss: 0.4013 - val_binary_accuracy: 0.9000\n",
      "Epoch 13/50\n",
      "2/2 [==============================] - 0s 44ms/step - loss: 0.2040 - binary_accuracy: 0.9978 - val_loss: 0.4039 - val_binary_accuracy: 0.9000\n",
      "Epoch 14/50\n",
      "2/2 [==============================] - 0s 42ms/step - loss: 0.1872 - binary_accuracy: 0.9989 - val_loss: 0.3842 - val_binary_accuracy: 0.9000\n",
      "Epoch 15/50\n",
      "2/2 [==============================] - 0s 47ms/step - loss: 0.1722 - binary_accuracy: 1.0000 - val_loss: 0.3970 - val_binary_accuracy: 0.8800\n",
      "Epoch 16/50\n",
      "2/2 [==============================] - 0s 45ms/step - loss: 0.1571 - binary_accuracy: 0.9989 - val_loss: 0.3582 - val_binary_accuracy: 0.8900\n",
      "Epoch 17/50\n",
      "2/2 [==============================] - 0s 46ms/step - loss: 0.1421 - binary_accuracy: 0.9989 - val_loss: 0.3437 - val_binary_accuracy: 0.9000\n",
      "Epoch 18/50\n",
      "2/2 [==============================] - 0s 49ms/step - loss: 0.1314 - binary_accuracy: 1.0000 - val_loss: 0.3365 - val_binary_accuracy: 0.9000\n",
      "Epoch 19/50\n",
      "2/2 [==============================] - 0s 44ms/step - loss: 0.1199 - binary_accuracy: 1.0000 - val_loss: 0.3311 - val_binary_accuracy: 0.9000\n",
      "Epoch 20/50\n",
      "2/2 [==============================] - 0s 43ms/step - loss: 0.1080 - binary_accuracy: 1.0000 - val_loss: 0.3390 - val_binary_accuracy: 0.9000\n",
      "Epoch 21/50\n",
      "2/2 [==============================] - 0s 47ms/step - loss: 0.0986 - binary_accuracy: 1.0000 - val_loss: 0.3230 - val_binary_accuracy: 0.8900\n",
      "Epoch 22/50\n",
      "2/2 [==============================] - 0s 43ms/step - loss: 0.0904 - binary_accuracy: 1.0000 - val_loss: 0.3141 - val_binary_accuracy: 0.9000\n",
      "Epoch 23/50\n",
      "2/2 [==============================] - 0s 46ms/step - loss: 0.0853 - binary_accuracy: 1.0000 - val_loss: 0.3097 - val_binary_accuracy: 0.9000\n",
      "Epoch 24/50\n",
      "2/2 [==============================] - 0s 45ms/step - loss: 0.0763 - binary_accuracy: 1.0000 - val_loss: 0.3102 - val_binary_accuracy: 0.8900\n",
      "Epoch 25/50\n",
      "2/2 [==============================] - 0s 48ms/step - loss: 0.0683 - binary_accuracy: 1.0000 - val_loss: 0.3082 - val_binary_accuracy: 0.8900\n",
      "Epoch 26/50\n",
      "2/2 [==============================] - 0s 50ms/step - loss: 0.0622 - binary_accuracy: 1.0000 - val_loss: 0.3021 - val_binary_accuracy: 0.8900\n",
      "Epoch 27/50\n",
      "2/2 [==============================] - 0s 49ms/step - loss: 0.0571 - binary_accuracy: 1.0000 - val_loss: 0.2967 - val_binary_accuracy: 0.9100\n",
      "Epoch 28/50\n",
      "2/2 [==============================] - 0s 50ms/step - loss: 0.0521 - binary_accuracy: 1.0000 - val_loss: 0.2985 - val_binary_accuracy: 0.8900\n",
      "Epoch 29/50\n",
      "2/2 [==============================] - 0s 50ms/step - loss: 0.0472 - binary_accuracy: 1.0000 - val_loss: 0.2951 - val_binary_accuracy: 0.9000\n",
      "Epoch 30/50\n",
      "2/2 [==============================] - 0s 45ms/step - loss: 0.0429 - binary_accuracy: 1.0000 - val_loss: 0.2942 - val_binary_accuracy: 0.9000\n",
      "Epoch 31/50\n",
      "2/2 [==============================] - 0s 47ms/step - loss: 0.0392 - binary_accuracy: 1.0000 - val_loss: 0.2905 - val_binary_accuracy: 0.9100\n",
      "Epoch 32/50\n",
      "2/2 [==============================] - 0s 44ms/step - loss: 0.0356 - binary_accuracy: 1.0000 - val_loss: 0.2926 - val_binary_accuracy: 0.9000\n",
      "Epoch 33/50\n",
      "2/2 [==============================] - 0s 46ms/step - loss: 0.0322 - binary_accuracy: 1.0000 - val_loss: 0.2916 - val_binary_accuracy: 0.9000\n",
      "Epoch 34/50\n",
      "2/2 [==============================] - 0s 49ms/step - loss: 0.0291 - binary_accuracy: 1.0000 - val_loss: 0.2922 - val_binary_accuracy: 0.9000\n",
      "Epoch 35/50\n",
      "2/2 [==============================] - 0s 47ms/step - loss: 0.0264 - binary_accuracy: 1.0000 - val_loss: 0.2925 - val_binary_accuracy: 0.9000\n",
      "Epoch 36/50\n",
      "2/2 [==============================] - 0s 45ms/step - loss: 0.0238 - binary_accuracy: 1.0000 - val_loss: 0.2931 - val_binary_accuracy: 0.9000\n",
      "Epoch 37/50\n",
      "2/2 [==============================] - 0s 45ms/step - loss: 0.0216 - binary_accuracy: 1.0000 - val_loss: 0.2973 - val_binary_accuracy: 0.8900\n",
      "Epoch 38/50\n",
      "2/2 [==============================] - 0s 46ms/step - loss: 0.0197 - binary_accuracy: 1.0000 - val_loss: 0.3037 - val_binary_accuracy: 0.8900\n",
      "Epoch 39/50\n",
      "2/2 [==============================] - 0s 42ms/step - loss: 0.0179 - binary_accuracy: 1.0000 - val_loss: 0.2997 - val_binary_accuracy: 0.8900\n",
      "Epoch 40/50\n",
      "2/2 [==============================] - 0s 42ms/step - loss: 0.0161 - binary_accuracy: 1.0000 - val_loss: 0.3009 - val_binary_accuracy: 0.8900\n",
      "Epoch 41/50\n",
      "2/2 [==============================] - 0s 43ms/step - loss: 0.0144 - binary_accuracy: 1.0000 - val_loss: 0.2902 - val_binary_accuracy: 0.9000\n",
      "Epoch 42/50\n",
      "2/2 [==============================] - 0s 43ms/step - loss: 0.0132 - binary_accuracy: 1.0000 - val_loss: 0.2941 - val_binary_accuracy: 0.9000\n",
      "Epoch 43/50\n",
      "2/2 [==============================] - 0s 44ms/step - loss: 0.0119 - binary_accuracy: 1.0000 - val_loss: 0.2939 - val_binary_accuracy: 0.9000\n",
      "Epoch 44/50\n",
      "2/2 [==============================] - 0s 46ms/step - loss: 0.0108 - binary_accuracy: 1.0000 - val_loss: 0.2932 - val_binary_accuracy: 0.8900\n",
      "Epoch 45/50\n",
      "2/2 [==============================] - 0s 46ms/step - loss: 0.0098 - binary_accuracy: 1.0000 - val_loss: 0.2960 - val_binary_accuracy: 0.9000\n",
      "Epoch 46/50\n",
      "2/2 [==============================] - 0s 44ms/step - loss: 0.0088 - binary_accuracy: 1.0000 - val_loss: 0.3011 - val_binary_accuracy: 0.9000\n",
      "Epoch 47/50\n",
      "2/2 [==============================] - 0s 42ms/step - loss: 0.0079 - binary_accuracy: 1.0000 - val_loss: 0.2990 - val_binary_accuracy: 0.9000\n",
      "Epoch 48/50\n",
      "2/2 [==============================] - 0s 43ms/step - loss: 0.0072 - binary_accuracy: 1.0000 - val_loss: 0.3089 - val_binary_accuracy: 0.8900\n",
      "Epoch 49/50\n",
      "2/2 [==============================] - 0s 45ms/step - loss: 0.0065 - binary_accuracy: 1.0000 - val_loss: 0.3054 - val_binary_accuracy: 0.9000\n",
      "Epoch 50/50\n",
      "2/2 [==============================] - 0s 48ms/step - loss: 0.0059 - binary_accuracy: 1.0000 - val_loss: 0.3065 - val_binary_accuracy: 0.9000\n"
     ]
    }
   ],
   "source": [
    "history = model.fit(partial_X_train,\n",
    "                   partial_y_train,\n",
    "                   epochs=50,\n",
    "                   batch_size=512,\n",
    "                   validation_data=(X_val, y_val))"
   ]
  },
  {
   "cell_type": "code",
   "execution_count": 39,
   "id": "5094077c-fd18-41f8-9ee8-878bb54a4d51",
   "metadata": {},
   "outputs": [
    {
     "data": {
      "text/plain": [
       "dict_keys(['loss', 'binary_accuracy', 'val_loss', 'val_binary_accuracy'])"
      ]
     },
     "execution_count": 39,
     "metadata": {},
     "output_type": "execute_result"
    }
   ],
   "source": [
    "history_dict = history.history\n",
    "history_dict.keys()"
   ]
  },
  {
   "cell_type": "code",
   "execution_count": 40,
   "id": "86151483-2755-405b-a562-a3abb2f2ce6d",
   "metadata": {},
   "outputs": [],
   "source": [
    "import matplotlib.pyplot as plt\n",
    "%matplotlib inline\n",
    "# only draw static images in the notebook. For the inteactive plots, use %matplotlib notebook"
   ]
  },
  {
   "cell_type": "code",
   "execution_count": 41,
   "id": "4f0ccb9b-f802-402e-ba47-c3247e3b16bc",
   "metadata": {},
   "outputs": [
    {
     "data": {
      "image/png": "[encoded data removed]",
      "text/plain": [
       "<Figure size 432x288 with 1 Axes>"
      ]
     },
     "metadata": {
      "needs_background": "light"
     },
     "output_type": "display_data"
    }
   ],
   "source": [
    "# Plotting losses\n",
    "loss_values = history_dict['loss']\n",
    "val_loss_values = history_dict['val_loss']\n",
    "\n",
    "epochs = range(1, len(loss_values) + 1)\n",
    "\n",
    "plt.plot(epochs, loss_values, 'bo', label=\"Training Loss\")\n",
    "plt.plot(epochs, val_loss_values, 'b', label=\"Validation Loss\")\n",
    "\n",
    "plt.title('Training and Validation Loss')\n",
    "plt.xlabel('Epochs')\n",
    "plt.ylabel('Loss Value')\n",
    "plt.legend()\n",
    "\n",
    "plt.show()\n"
   ]
  },
  {
   "cell_type": "code",
   "execution_count": 42,
   "id": "0435aa7f-25d1-4bb1-adb8-0b692390f35a",
   "metadata": {},
   "outputs": [
    {
     "data": {
      "image/png": "[encoded data removed]",
      "text/plain": [
       "<Figure size 432x288 with 1 Axes>"
      ]
     },
     "metadata": {
      "needs_background": "light"
     },
     "output_type": "display_data"
    }
   ],
   "source": [
    "# Training and Validation Accuracy\n",
    "\n",
    "acc_values = history_dict['binary_accuracy']\n",
    "val_acc_values = history_dict['val_binary_accuracy']\n",
    "\n",
    "epochs = range(1, len(loss_values) + 1)\n",
    "\n",
    "plt.plot(epochs, acc_values, 'ro', label=\"Training Accuracy\")\n",
    "plt.plot(epochs, val_acc_values, 'r', label=\"Validation Accuracy\")\n",
    "\n",
    "plt.title('Training and Validation Accuraccy')\n",
    "plt.xlabel('Epochs')\n",
    "plt.ylabel('Accuracy')\n",
    "plt.legend()\n",
    "\n",
    "plt.show()\n"
   ]
  },
  {
   "cell_type": "code",
   "execution_count": 43,
   "id": "5ab8e8bb-8588-42b0-a446-8da32b5af3fa",
   "metadata": {},
   "outputs": [
    {
     "name": "stdout",
     "output_type": "stream",
     "text": [
      "Epoch 1/3\n",
      "2/2 [==============================] - 0s 85ms/step - loss: 0.0053 - binary_accuracy: 1.0000 - val_loss: 0.3100 - val_binary_accuracy: 0.9000\n",
      "Epoch 2/3\n",
      "2/2 [==============================] - 0s 46ms/step - loss: 0.0048 - binary_accuracy: 1.0000 - val_loss: 0.3121 - val_binary_accuracy: 0.9000\n",
      "Epoch 3/3\n",
      "2/2 [==============================] - 0s 47ms/step - loss: 0.0044 - binary_accuracy: 1.0000 - val_loss: 0.3121 - val_binary_accuracy: 0.9000\n"
     ]
    },
    {
     "data": {
      "text/plain": [
       "<keras.callbacks.History at 0x18f2d3a94c8>"
      ]
     },
     "execution_count": 43,
     "metadata": {},
     "output_type": "execute_result"
    }
   ],
   "source": [
    "model.fit(partial_X_train,\n",
    "                   partial_y_train,\n",
    "                   epochs=3,\n",
    "                   batch_size=512,\n",
    "                   validation_data=(X_val, y_val))"
   ]
  },
  {
   "cell_type": "code",
   "execution_count": 45,
   "id": "2ed91a9a-8668-41d4-a5e8-9e450f901ee3",
   "metadata": {},
   "outputs": [
    {
     "name": "stdout",
     "output_type": "stream",
     "text": [
      "32/32 [==============================] - 0s 3ms/step\n"
     ]
    }
   ],
   "source": [
    "# Making Predictions for testing data\n",
    "np.set_printoptions(suppress=True)\n",
    "result = model.predict(X_test[:1000])"
   ]
  },
  {
   "cell_type": "code",
   "execution_count": 46,
   "id": "43ac79cf-0bf6-4f6a-8ccd-b61dd8866937",
   "metadata": {},
   "outputs": [],
   "source": [
    "y_pred = np.zeros(len(result))\n",
    "for i, score in enumerate(result):\n",
    "    y_pred[i] = 1 if score > 0.5 else 0"
   ]
  },
  {
   "cell_type": "code",
   "execution_count": 48,
   "id": "71115d13-b2bf-4e53-94f9-ecf0ca8909fa",
   "metadata": {},
   "outputs": [
    {
     "data": {
      "text/plain": [
       "0.169"
      ]
     },
     "execution_count": 48,
     "metadata": {},
     "output_type": "execute_result"
    }
   ],
   "source": [
    "from sklearn.metrics import mean_absolute_error\n",
    "mae = mean_absolute_error(y_pred, y_test[:1000])\n",
    "mae"
   ]
  },
  {
   "cell_type": "code",
   "execution_count": null,
   "id": "89f33717-79a7-4c6d-b789-a0d04988d583",
   "metadata": {},
   "outputs": [],
   "source": []
  }
 ],
 "metadata": {
  "kernelspec": {
   "display_name": "Python 3 (ipykernel)",
   "language": "python",
   "name": "python3"
  },
  "language_info": {
   "codemirror_mode": {
    "name": "ipython",
    "version": 3
   },
   "file_extension": ".py",
   "mimetype": "text/x-python",
   "name": "python",
   "nbconvert_exporter": "python",
   "pygments_lexer": "ipython3",
   "version": "3.7.13"
  }
 },
 "nbformat": 4,
 "nbformat_minor": 5
}
